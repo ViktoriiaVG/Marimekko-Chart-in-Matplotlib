{
 "cells": [
  {
   "cell_type": "code",
   "execution_count": 1,
   "id": "777c6250",
   "metadata": {},
   "outputs": [],
   "source": [
    "import matplotlib.pyplot as plt\n",
    "import numpy as np"
   ]
  },
  {
   "cell_type": "code",
   "execution_count": 2,
   "id": "a9dd22f7",
   "metadata": {},
   "outputs": [],
   "source": [
    "# Every element has two parameters:\n",
    "element_name = np.array([\"Element 1\", \"Element 2\", \"Element 3\", \"Element 4\", \"Element 5\", \"Element 6\", \"Element 7\"])\n",
    "first_parameter = np.array([2, 4, 5, 8, 3, 9, 6]) # this parameter will be visualized on the axis x\n",
    "second_parameter = np.array([0.5, 0.1, 0.9, 0.4, 0.2, 0.2, 0.7]) # this parameter will be visualized on the axis y"
   ]
  },
  {
   "cell_type": "code",
   "execution_count": 3,
   "id": "2dd59f35",
   "metadata": {},
   "outputs": [],
   "source": [
    "# Descending sort by second_parameter:\n",
    "sort_second_parameter = np.sort(second_parameter)[::-1]\n",
    "\n",
    "# Sort of first_parameter according to the descending list of second_parameter:\n",
    "sort_first_parameter = first_parameter[np.argsort(second_parameter)[::-1]]\n",
    "\n",
    "# Sort of element_name according to the descending list of second_parameter:\n",
    "sort_element_name =element_name[np.argsort(second_parameter)[::-1]]"
   ]
  },
  {
   "cell_type": "code",
   "execution_count": 4,
   "id": "a6078c15",
   "metadata": {},
   "outputs": [],
   "source": [
    "# Center of graphs in bar chart:\n",
    "bar_center = []\n",
    "for i in range(len(second_parameter)):\n",
    "    if i == 0:\n",
    "        bar_center.append(sort_first_parameter[i]/2)\n",
    "    else:\n",
    "        bar_center.append(np.sum(sort_first_parameter[0:i])+sort_first_parameter[i]/2)"
   ]
  },
  {
   "cell_type": "code",
   "execution_count": 5,
   "id": "a495ca95",
   "metadata": {},
   "outputs": [
    {
     "data": {
      "image/png": "[encoded data removed]",
      "text/plain": [
       "<Figure size 720x288 with 1 Axes>"
      ]
     },
     "metadata": {
      "needs_background": "light"
     },
     "output_type": "display_data"
    }
   ],
   "source": [
    "# Visualization of bar chart and some settings for graphics design:\n",
    "fig, axes = plt.subplots(figsize=(10,4))\n",
    "\n",
    "# Labeling of axis:\n",
    "axes.set_xlabel(\"First parameter\", fontsize=13)\n",
    "axes.set_ylabel(\"Second parameter\", fontsize=13)\n",
    "\n",
    "# Set limits of x axis label:\n",
    "axes.set_xlim([0, np.sum(first_parameter)])\n",
    "\n",
    "# Labeling of element names on the graph:\n",
    "for i, g in enumerate(bar_center):\n",
    "    plt.text(g, sort_second_parameter[i]+0.05, f'{sort_element_name[i]}', fontsize=10, ha='center', va='bottom', rotation=90) \n",
    "\n",
    "# Visualization of major ticks of axis y:   \n",
    "plt.grid(True, which='both', axis='y', linestyle=(0, (3, 5)), color='lightgrey', zorder=0)\n",
    "\n",
    "# Set spines transparency to 0 -> remove spines: \n",
    "axes.spines['top'].set_alpha(0)\n",
    "axes.spines['bottom'].set_alpha(0)\n",
    "axes.spines['right'].set_alpha(0)\n",
    "axes.spines['left'].set_alpha(0)\n",
    "\n",
    "axes.tick_params(length=0)\n",
    "\n",
    "# Chart's title\n",
    "plt.title(\"Marimekko chart\", fontsize=25, pad=70) \n",
    "\n",
    "# Creating of chart\n",
    "plt.bar(bar_center, sort_second_parameter, width=sort_first_parameter, \n",
    "        color='#6b8d73', \n",
    "        edgecolor='white', \n",
    "        linewidth=0.5, zorder=3)\n",
    "plt.show()"
   ]
  },
  {
   "cell_type": "code",
   "execution_count": null,
   "id": "e9331b19",
   "metadata": {},
   "outputs": [],
   "source": []
  }
 ],
 "metadata": {
  "kernelspec": {
   "display_name": "Python 3.9.7 ('base')",
   "language": "python",
   "name": "python3"
  },
  "language_info": {
   "codemirror_mode": {
    "name": "ipython",
    "version": 3
   },
   "file_extension": ".py",
   "mimetype": "text/x-python",
   "name": "python",
   "nbconvert_exporter": "python",
   "pygments_lexer": "ipython3",
   "version": "3.9.7"
  },
  "vscode": {
   "interpreter": {
    "hash": "6154f5e7010e3fc887b4ef746b1797a21e307032fb152fdac8d8ffa27b151033"
   }
  }
 },
 "nbformat": 4,
 "nbformat_minor": 5
}
